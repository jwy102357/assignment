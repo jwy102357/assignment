{
 "cells": [
  {
   "cell_type": "markdown",
   "metadata": {},
   "outputs": [],
   "source": [
    "## 과제4"
   ]
  },
  {
   "cell_type": "markdown",
   "metadata": {},
   "outputs": [],
   "source": [
    "1. #로 표시된 줄에 아랫줄 코드의 주석 쓰기 (단순한 변수, 함수 이름의 나열이 아닌 구체적인 설명을 쓸 것)\n",
    "2. #TODO: 설명 이 써있는 줄을 알맞은 코드로 대체\n",
    "3. 각 셀을 실행하여 결과 출력\n",
    "4. 본 파일 이름을 ```Homework4_학번_이름``` 으로 변경하여 kyurijo@chungbuk.ac.kr로 제출 (이메일 제목:```[과제4]학번_이름```)\n",
    "5. 제출기한 : 11월 17일 일요일 23:59:59"
   ]
  },
  {
   "cell_type": "markdown",
   "metadata": {},
   "outputs": [],
   "source": [
    "## Task 1"
   ]
  },
  {
   "cell_type": "code",
   "execution_count": 1,
   "metadata": {},
   "outputs": [],
   "source": [
    "import pandas as pd\n",
    "import matplotlib.pyplot as plt\n",
    "from numpy import NaN\n",
    "# pd로 이름을 지정한 pandas모듈의 read_scv 함수를 호출하여 'billboard.scv'파일의 comma-separated values를 읽어와서 billborad에 저장한다.\n",
    "billboard = pd.read_csv('billboard.csv', engine = 'python')\n",
    "# pandas모듈의 melt 함수를 호출하여 billboard에서 id_vars에 있는 열의 위치는 그대로 유지하고 나머지 열은 행으로 정리하며 열 이름을 week, rating으로 하여 billboard_long에 저장한다.\n",
    "billboard_long = pd.melt(billboard, id_vars=['year', 'artist', 'track', 'time', 'date.entered'], var_name='week', value_name='rating')\n",
    "\n",
    "#TODO : billboard_long의 행, 열 개수 출력\n",
    "#TODO : billboard_long의 데이터 출력\n",
    "print(billboard.shape)\n",
    "print(billboard_long)"
   ]
  },
  {
   "cell_type": "code",
   "execution_count": 2,
   "metadata": {},
   "outputs": [],
   "source": [
    "# billboard_long에서 track열의 값이 'Loser'인 행들을 찾아서 b_loser에 저장하고 가장 앞에 있는 5개의 행을 출력한다.\n",
    "b_loser = billboard_long[billboard_long.track == 'Loser']\n",
    "print(b_loser.head())"
   ]
  },
  {
   "cell_type": "code",
   "execution_count": 3,
   "metadata": {},
   "outputs": [],
   "source": [
    "# bilboard_long에서 year, artist, track, time 4개의 열만 가져와서 billboard_songs에 저장하고 행, 열의 개수를 출력한다.\n",
    "billboard_songs = billboard_long[['year', 'artist', 'track', 'time']] \n",
    "print(billboard_songs.shape)"
   ]
  },
  {
   "cell_type": "code",
   "execution_count": 4,
   "metadata": {},
   "outputs": [],
   "source": [
    "# drop_duplicates함수를 호출하여 billboard_songs의 중복된 행들을 제거하고 출력한다.\n",
    "billboard_songs = billboard_songs.drop_duplicates() \n",
    "print(billboard_songs.shape)"
   ]
  },
  {
   "cell_type": "code",
   "execution_count": 5,
   "metadata": {},
   "outputs": [],
   "source": [
    "# billboard_songs의 데이터들에 0부터 순서대로 번호를 매기고 가장 앞에 있는 10개의 행을 출력한다.\n",
    "billboard_songs['id'] = range(len(billboard_songs)) \n",
    "print(billboard_songs.head(n=10))"
   ]
  },
  {
   "cell_type": "code",
   "execution_count": 6,
   "metadata": {},
   "outputs": [],
   "source": [
    "# merge함수를 호출하여 billboard_songs와 billboard_long을 두 데이터프레임의 year, artist, track, time 열이 일치할때 연결하여 billboard_ratings에 저장한다.\n",
    "billboard_ratings = billboard_long.merge(billboard_songs, on=['year', 'artist', 'track', 'time']) \n",
    "print(billboard_ratings.shape)\n",
    "print(billboard_ratings.head())"
   ]
  },
  {
   "cell_type": "code",
   "execution_count": 7,
   "metadata": {},
   "outputs": [],
   "source": [
    "fig = plt.figure(figsize=(20,4))\n",
    "axis = fig.add_subplot(111)\n",
    "#TODO : billboard_long에서 1) track 이름이 Kryptonite 이고, 2) rating이 NaN이 아닌 행의 3)'week', 'rating' 열을 가져와서 subset 변수에 저장\n",
    "#힌트 : pd.notnull(dataframe변수) 를 사용하면 NaN이 아닌 행이 True인 시리즈를 얻을 수 있음\n",
    "subset = ((billboard_long[billboard_long.track=='Kryptonite'])[pd.notnull(billboard_long['rating'])==True])[['week', 'rating']]\n",
    "#TODO : subset의 week 열을 문자열 'wk'을 기준으로 분리한 뒤, 두번째 요소들(몇 주인지를 나타내는 숫자)을 새로운 열 'week_num'으로 저장\n",
    "#힌트 : str.split()과 str.get() 사용\n",
    "subset['week_num'] = subset.week.str.split('wk').str.get(1)\n",
    "axis.plot(subset['week_num'], subset['rating'])"
   ]
  },
  {
   "cell_type": "markdown",
   "metadata": {},
   "outputs": [],
   "source": [
    "## Task 2"
   ]
  },
  {
   "cell_type": "code",
   "execution_count": 8,
   "metadata": {},
   "outputs": [],
   "source": [
    "import os \n",
    "import urllib.request\n",
    "\n",
    "# 파일 다운로드에 시간이 오래 걸릴 수 있으니 5개 파일이 다 받아질 때까지 기다릴 것\n",
    "with open('raw_data_urls.txt', 'r') as data_urls:\n",
    "    # raw_data_urls.txt에 적힌 내용을 한줄씩 url변수에 저장하고 line변수에 반복횟수를 기록한다.\n",
    "    for line, url in enumerate(data_urls.readlines()):\n",
    "        if line == 5:\n",
    "            break \n",
    "        #TODO: url에서 마지막 / 뒷부분에 있는 파일 이름만 분리하여 fn 변수에 저장 \n",
    "        fn = url.split('/')[-1].strip('\\n')\n",
    "        print(fn)\n",
    "        urllib.request.urlretrieve(url, fn)"
   ]
  },
  {
   "cell_type": "code",
   "execution_count": 9,
   "metadata": {},
   "outputs": [],
   "source": [
    "import glob \n",
    "# glob()는 특정한 패턴의 이름을 가진 파일을 한번에 읽어들임\n",
    "nyc_taxi_data = glob.glob('fhv_*') \n",
    "print(nyc_taxi_data)"
   ]
  },
  {
   "cell_type": "code",
   "execution_count": 10,
   "metadata": {},
   "outputs": [],
   "source": [
    "list_taxi_df = [] \n",
    "\n",
    "for csv_filename in nyc_taxi_data:\n",
    "    df = pd.read_csv(csv_filename)\n",
    "    print(df.shape)\n",
    "   # 파일명이 fhv_로 시작되는 .csv파일들을 pd.read_csv함수로 하나씩 읽어와 list_taxi_df 리스트에 추가한다.\n",
    "    list_taxi_df.append(df) \n",
    "\n",
    "print(len(list_taxi_df))"
   ]
  },
  {
   "cell_type": "code",
   "execution_count": 11,
   "metadata": {},
   "outputs": [],
   "source": [
    "# list_taxi_df 리스트에 있던 데이터프레임들을 concat함수를 이용해 위-아래로 연결하여 taxi_loop_concat에 저장한다.\n",
    "taxi_loop_concat = pd.concat(list_taxi_df) \n",
    "print(taxi_loop_concat.shape)"
   ]
  },
  {
   "cell_type": "code",
   "execution_count": 12,
   "metadata": {},
   "outputs": [],
   "source": [
    "#TODO : taxi_loop_concat의 Dispatching_base_num이 B00029인 행만 골라서 Pickup_date 열을 추출한 뒤, \n",
    "# pd.to_datetime()으로 datetime 타입으로 변경한 시리즈를 dt에 저장\n",
    "dt = pd.to_datetime((taxi_loop_concat[taxi_loop_concat.Dispatching_base_num == 'B00029'])['Pickup_date'])"
   ]
  },
  {
   "cell_type": "code",
   "execution_count": 13,
   "metadata": {},
   "outputs": [],
   "source": [
    "dt.max()-dt.min()"
   ]
  }
 ],
 "metadata": {
  "kernelspec": {
   "display_name": "Python 3",
   "language": "python",
   "name": "python3"
  },
  "language_info": {
   "codemirror_mode": {
    "name": "ipython",
    "version": 3
   },
   "file_extension": ".py",
   "mimetype": "text/x-python",
   "name": "python",
   "nbconvert_exporter": "python",
   "pygments_lexer": "ipython3",
   "version": "3.7.4"
  }
 },
 "nbformat": 4,
 "nbformat_minor": 2
}